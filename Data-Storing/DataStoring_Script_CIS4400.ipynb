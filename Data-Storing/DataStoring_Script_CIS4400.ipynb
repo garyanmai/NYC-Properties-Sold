{
 "cells": [
  {
   "cell_type": "markdown",
   "id": "01d1fe59",
   "metadata": {},
   "source": [
    "# Data Storing Script for AWS s3 with API through the AWS CLI on an AWS EC2 instance\n",
    "\n",
    "###  This script is intended for the AWS CLI and will be used to:\n",
    "1. Create a s3 bucket\n",
    "2. Upload a data file from a weblink with an API with out it landing in your local hard disc\n",
    "\n",
    "**Link to Data**: https://data.cityofnewyork.us/City-Government/NYC-Citywide-Annualized-Calendar-Sales-Update/w2pb-icbu\n",
    "\n",
    "**API end point**: https://data.cityofnewyork.us/resource/w2pb-icbu.json\n",
    "\n",
    "**Link to Data Dictionary**: https://data.cityofnewyork.us/api/views/w2pb-icbu/files/8ed811b4-8238-4b5e-9acc-1e33d8705498?download=true&filename=Annualized_Calendar_Sales_Update%20Data_Dictionary.xlsx"
   ]
  },
  {
   "cell_type": "markdown",
   "id": "885c780a",
   "metadata": {},
   "source": [
    "## 1. Create s3 bucket using AWS CLI (replace XX with your initial):\n",
    "aws s3api create-bucket --bucket nyc-prop-sales-XX --region us-east-2 \\\n",
    " --create-bucket-configuration LocationConstraint=us-east-2\n",
    "#### note: “us-east-2” is the region code for my ec2 instance, you may need to adjust according to the region your ec2 instance is stored"
   ]
  },
  {
   "cell_type": "markdown",
   "id": "3e6340f8",
   "metadata": {},
   "source": [
    "## 2. Download and copy a data file with an API into your s3 bucket\n",
    "curl -SL https://data.cityofnewyork.us/resource/w2pb-icbu.json | aws s3 cp - s3://nyc-prop-sales-XX/data.json\n",
    "#### note: The new file name will be named “data.json”\n"
   ]
  },
  {
   "cell_type": "markdown",
   "id": "b67c6b27",
   "metadata": {},
   "source": [
    "## 3. Check to see if the data file has been successfully stored in your s3 bucket\n",
    "aws s3 ls s3://nyc-prop-sales-XX/\n",
    "#### note: You should see “data.json”\n"
   ]
  }
 ],
 "metadata": {
  "kernelspec": {
   "display_name": "Python 3 (ipykernel)",
   "language": "python",
   "name": "python3"
  },
  "language_info": {
   "codemirror_mode": {
    "name": "ipython",
    "version": 3
   },
   "file_extension": ".py",
   "mimetype": "text/x-python",
   "name": "python",
   "nbconvert_exporter": "python",
   "pygments_lexer": "ipython3",
   "version": "3.9.13"
  }
 },
 "nbformat": 4,
 "nbformat_minor": 5
}
