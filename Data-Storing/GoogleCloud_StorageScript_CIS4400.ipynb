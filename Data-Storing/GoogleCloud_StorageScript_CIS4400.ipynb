{
 "cells": [
  {
   "cell_type": "markdown",
   "id": "f9cabfb7",
   "metadata": {},
   "source": [
    "# Upload Data Set to Google Cloud Storage Bucket Using Access Key\n",
    "\n",
    "**Link To Data**: https://data.cityofnewyork.us/City-Government/NYC-Citywide-Annualized-Calendar-Sales-Update/w2pb-icbu\n",
    "\n",
    "**API end-point**: https://data.cityofnewyork.us/resource/w2pb-icbu.json\n",
    "\n",
    "**Data Dictionary**: https://data.cityofnewyork.us/api/views/w2pb-icbu/files/8ed811b4-8238-4b5e-9acc-1e33d8705498?download=true&filename=Annualized_Calendar_Sales_Update%20Data_Dictionary.xlsx\n",
    "\n",
    "**Cleaned Data Dictionary**: https://docs.google.com/spreadsheets/d/17XyGmnw2fZuTMCWVKB1XiWGHQuwqWOidm0w80lbIyjE/edit?usp=sharing\n",
    "\n",
    "**IMPORTANT: This data set is 121.3 MB. Once downloaded, please keep the file in the same directory as this jupyter notebook file, so that the .csv file can be uploaded to the Google Cloud correctly. BigQuery will not accept local files larger than 10 MB, so it's important to upload the file to cloud first before moving onto the Data Warehouse**"
   ]
  },
  {
   "cell_type": "markdown",
   "id": "a8aa98b5",
   "metadata": {},
   "source": [
    "# Creating an Access Key on Google Cloud Storage\n",
    "\n",
    "1. Access Google Cloud Console:\n",
    "2. Navigate to IAM & Admin > Service Accounts\n",
    "3. Select Service Account, click the three dots on the right-hand side, and click \"Manage Keys\"\n",
    "4. Click \"Add Key\"\n",
    "5. Select \"JSON\" for Key Type\n",
    "6. Click \"Create\" button\n",
    "\n",
    "**NOTE: A .json file should be downloaded and should be found in your /downloads file. Rename the .json file to \"GOOGLE_CLOUD_ACCESSKEY.json\".**"
   ]
  },
  {
   "cell_type": "markdown",
   "id": "5c7a919d",
   "metadata": {},
   "source": [
    "# Import the Python 'os' module"
   ]
  },
  {
   "cell_type": "code",
   "execution_count": null,
   "id": "834c8343",
   "metadata": {},
   "outputs": [],
   "source": [
    "import os\n",
    "os.environ['GOOGLE_APPLICATION_CREDENTIALS'] = 'GOOGLE_CLOUD_ACCESSKEY.json'"
   ]
  },
  {
   "cell_type": "markdown",
   "id": "d2faf401",
   "metadata": {},
   "source": [
    "# Create a Google Cloud Storage Bucket "
   ]
  },
  {
   "cell_type": "code",
   "execution_count": null,
   "id": "9d2d3324",
   "metadata": {},
   "outputs": [],
   "source": [
    "from google.cloud import storage\n",
    "from google.cloud.storage import Bucket\n",
    "\n",
    "# Create a new bucket in specified project:\n",
    "def create_bucket(bucket_name, project_id):\n",
    "    storage_client = storage.Client(project=project_id)\n",
    "    bucket = storage_client.bucket(bucket_name)\n",
    "    new_bucket = storage_client.create_bucket(bucket, project=project_id)\n",
    "    print(f\"Bucket {new_bucket.name} created\")\n",
    "\n",
    "# Create a new bucket and replace XX with your initials:\n",
    "bucket_name = 'cis-4400-project-XX'\n",
    "create_bucket(bucket_name, project_id)"
   ]
  },
  {
   "cell_type": "markdown",
   "id": "f4ef3bcc",
   "metadata": {},
   "source": [
    "# Upload the Data Set to your new Storage Bucket"
   ]
  },
  {
   "cell_type": "code",
   "execution_count": null,
   "id": "bb0f18be",
   "metadata": {},
   "outputs": [],
   "source": [
    "from google.cloud import storage\n",
    "from google.cloud.storage import Bucket\n",
    "\n",
    "# Upload source file to the bucket\n",
    "def upload_blob(bucket_name, source_file_name, destination_blob_name):\n",
    "    storage_client = storage.Client()\n",
    "    bucket = storage_client.bucket(bucket_name)\n",
    "    blob = bucket.blob(destination_blob_name)\n",
    "\n",
    "    blob.upload_from_filename(source_file_name)\n",
    "\n",
    "    print(f\"File {source_file_name} uploaded to {destination_blob_name} in bucket {bucket_name}.\")\n",
    "    \n",
    "\n",
    "bucket_name = 'cis-4400-project-XX'\n",
    "source_file_name = 'NYC_Citywide_Annualized_Calendar_Sales_Update_20231203.csv'\n",
    "destination_blob_name = 'NYC_sales.csv'\n",
    "\n",
    "# Upload the CSV file to the bucket\n",
    "upload_blob(bucket_name, source_file_name, destination_blob_name)"
   ]
  }
 ],
 "metadata": {
  "kernelspec": {
   "display_name": "Python 3 (ipykernel)",
   "language": "python",
   "name": "python3"
  },
  "language_info": {
   "codemirror_mode": {
    "name": "ipython",
    "version": 3
   },
   "file_extension": ".py",
   "mimetype": "text/x-python",
   "name": "python",
   "nbconvert_exporter": "python",
   "pygments_lexer": "ipython3",
   "version": "3.9.13"
  }
 },
 "nbformat": 4,
 "nbformat_minor": 5
}
