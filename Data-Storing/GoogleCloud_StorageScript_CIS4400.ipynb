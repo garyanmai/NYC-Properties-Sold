{
 "cells": [
  {
   "cell_type": "markdown",
   "id": "f9cabfb7",
   "metadata": {},
   "source": [
    "# Upload Data Set to Google Cloud Storage Bucket Using Access Key\n",
    "\n",
    "**Link To Data**: https://data.cityofnewyork.us/City-Government/NYC-Citywide-Annualized-Calendar-Sales-Update/w2pb-icbu\n",
    "\n",
    "**API end-point**: https://data.cityofnewyork.us/resource/w2pb-icbu.json\n",
    "\n",
    "**Data Dictionary**: https://data.cityofnewyork.us/api/views/w2pb-icbu/files/8ed811b4-8238-4b5e-9acc-1e33d8705498?download=true&filename=Annualized_Calendar_Sales_Update%20Data_Dictionary.xlsx\n",
    "\n",
    "**Cleaned Data Dictionary**: https://docs.google.com/spreadsheets/d/17XyGmnw2fZuTMCWVKB1XiWGHQuwqWOidm0w80lbIyjE/edit?usp=sharing\n",
    "\n",
    "**IMPORTANT: This data set is 121.3 MB. Once downloaded, please keep the file in the same directory as this jupyter notebook file, so that the .csv file can be uploaded to the Google Cloud correctly. BigQuery will not accept local files larger than 10 MB, so it's important to upload the file to cloud first before moving onto the Data Warehouse**"
   ]
  },
  {
   "cell_type": "markdown",
   "id": "e4b0ed66",
   "metadata": {},
   "source": [
    "# Grant Required Permissions to Your Google Cloud Service Account\n",
    "\n",
    "1. Go to the Google Cloud Console\n",
    "2. Navigate to the \"IAM & Admin\" section\n",
    "3. Locate your service account that you want to use\n",
    "4. Click \"edit principle\"\n",
    "5. Under the \"Row\" field, select \"Storage Admin\" from the drop-down menu\n",
    "\n",
    "**Note: The \"Storage Admin\" role grants full control of buckets and objects. This step is important for the code to be able to create a bucket**"
   ]
  },
  {
   "cell_type": "markdown",
   "id": "a8aa98b5",
   "metadata": {},
   "source": [
    "# Creating an Access Key on Google Cloud Storage\n",
    "\n",
    "1. Access Google Cloud Console:\n",
    "2. Navigate to IAM & Admin > Service Accounts\n",
    "3. Select Service Account, click the three dots on the right-hand side, and click \"Manage Keys\"\n",
    "4. Click \"Add Key\"\n",
    "5. Select \"JSON\" for Key Type\n",
    "6. Click \"Create\" button\n",
    "\n",
    "**NOTE: A .json file should be downloaded and should be found in your /downloads file. Rename the .json file to \"GOOGLE_CLOUD_ACCESSKEY.json\".**"
   ]
  },
  {
   "cell_type": "markdown",
   "id": "dc5f83fc",
   "metadata": {},
   "source": [
    "# Install the google-cloud-storage library"
   ]
  },
  {
   "cell_type": "code",
   "execution_count": null,
   "id": "ac09eeeb",
   "metadata": {},
   "outputs": [],
   "source": [
    "pip install google-cloud-storage"
   ]
  },
  {
   "cell_type": "markdown",
   "id": "5c7a919d",
   "metadata": {},
   "source": [
    "# Import the Python 'os' module"
   ]
  },
  {
   "cell_type": "code",
   "execution_count": null,
   "id": "834c8343",
   "metadata": {},
   "outputs": [],
   "source": [
    "import os\n",
    "os.environ['GOOGLE_APPLICATION_CREDENTIALS'] = 'GOOGLE_CLOUD_ACCESSKEY.json'"
   ]
  },
  {
   "cell_type": "markdown",
   "id": "d2faf401",
   "metadata": {},
   "source": [
    "# Create a Google Cloud Storage Bucket \n",
    "**Note: Google Cloud Storage bucket names must follow the following rules:**\n",
    "1. Be between 3 and 63 characters in length\n",
    "2. Start and end with a lowercase letter or number\n",
    "3. Contain only lowercase letters, numbers, hyphens (-), and cannot start or end with a hyphen"
   ]
  },
  {
   "cell_type": "code",
   "execution_count": null,
   "id": "9d2d3324",
   "metadata": {},
   "outputs": [],
   "source": [
    "from google.cloud import storage\n",
    "\n",
    "# Create a function that creates a new bucket in specified project id:\n",
    "def create_bucket(bucket_name, project_id):\n",
    "    storage_client = storage.Client(project=project_id)\n",
    "    \n",
    "    # Create a new bucket\n",
    "    bucket = storage_client.create_bucket(bucket_name)\n",
    "    \n",
    "    print(f\"Bucket {bucket.name} created\")\n",
    "\n",
    "# Replace 'your-project-id' with your actual Google Cloud project ID:\n",
    "project_id = 'your-project-id'\n",
    "\n",
    "# Create a new bucket and replace xx with your initials:\n",
    "# (Please note the bucket naming guidelines above)\n",
    "bucket_name = f'cis-4400-project-xx'\n",
    "create_bucket(bucket_name, project_id)\n"
   ]
  },
  {
   "cell_type": "markdown",
   "id": "f4ef3bcc",
   "metadata": {},
   "source": [
    "# Upload the Data Set to your new Storage Bucket"
   ]
  },
  {
   "cell_type": "code",
   "execution_count": null,
   "id": "bb0f18be",
   "metadata": {},
   "outputs": [],
   "source": [
    "from google.cloud import storage\n",
    "from google.cloud.storage import Bucket\n",
    "\n",
    "# Create a function that uploads source file to the bucket:\n",
    "def upload_blob(bucket_name, source_file_name, destination_blob_name):\n",
    "    # Creates a storage client\n",
    "    storage_client = storage.Client()\n",
    "    # Specifies the bucket by name\n",
    "    bucket = storage_client.bucket(bucket_name)\n",
    "    # Specifies the destination blob within the bucket\n",
    "    blob = bucket.blob(destination_blob_name)\n",
    "    # Uploads the file to the specified blob\n",
    "    blob.upload_from_filename(source_file_name)\n",
    "\n",
    "    print(f\"File {source_file_name} uploaded as {destination_blob_name} in bucket: {bucket_name}.\")\n",
    "    \n",
    "# Make sure that the source file is in the same directory as your script\n",
    "# Replace xx with your actual initials\n",
    "bucket_name = 'cis-4400-project-xx'\n",
    "# This is the default file name that was downloaded from the Link to Data found at the top of the jupyter notebook\n",
    "source_file_name = 'NYC_Citywide_Annualized_Calendar_Sales_Update_20231203.csv'\n",
    "# Specify the desired name for the file in the bucket\n",
    "destination_blob_name = 'NYC_sales.csv'\n",
    "\n",
    "# Upload the CSV file to the bucket\n",
    "upload_blob(bucket_name, source_file_name, destination_blob_name)"
   ]
  },
  {
   "cell_type": "code",
   "execution_count": null,
   "id": "1c60e5a5",
   "metadata": {},
   "outputs": [],
   "source": []
  }
 ],
 "metadata": {
  "kernelspec": {
   "display_name": "Python 3 (ipykernel)",
   "language": "python",
   "name": "python3"
  },
  "language_info": {
   "codemirror_mode": {
    "name": "ipython",
    "version": 3
   },
   "file_extension": ".py",
   "mimetype": "text/x-python",
   "name": "python",
   "nbconvert_exporter": "python",
   "pygments_lexer": "ipython3",
   "version": "3.9.13"
  }
 },
 "nbformat": 4,
 "nbformat_minor": 5
}
