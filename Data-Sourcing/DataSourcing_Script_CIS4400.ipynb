{
 "cells": [
  {
   "cell_type": "markdown",
   "id": "e5574e09",
   "metadata": {},
   "source": [
    "# Data-Sourcing Script for Retrieving NYC Citywide Annualized Calendar Sales Data with API\n",
    "\n",
    "Link to data: https://data.cityofnewyork.us/City-Government/NYC-Citywide-Annualized-Calendar-Sales-Update/w2pb-icbu\n",
    "\n",
    "API endpoint: https://data.cityofnewyork.us/resource/w2pb-icbu.json\n",
    "\n",
    "Data Dictionary: https://data.cityofnewyork.us/api/views/w2pb-icbu/files/8ed811b4-8238-4b5e-9acc-1e33d8705498?download=true&filename=Annualized_Calendar_Sales_Update%20Data_Dictionary.xlsx"
   ]
  },
  {
   "cell_type": "code",
   "execution_count": 10,
   "id": "34efff54",
   "metadata": {},
   "outputs": [],
   "source": [
    "from IPython.core.interactiveshell import InteractiveShell\n",
    "InteractiveShell.ast_node_interactivity = \"all\""
   ]
  },
  {
   "cell_type": "code",
   "execution_count": 2,
   "id": "5a6a21c4",
   "metadata": {},
   "outputs": [
    {
     "data": {
      "text/plain": [
       "677245"
      ]
     },
     "execution_count": 2,
     "metadata": {},
     "output_type": "execute_result"
    },
    {
     "name": "stdout",
     "output_type": "stream",
     "text": [
      "Data Retrieval Completed.\n"
     ]
    }
   ],
   "source": [
    "import requests\n",
    "\n",
    "url = \"https://data.cityofnewyork.us/resource/w2pb-icbu.json\"\n",
    "\n",
    "response = requests.get(url)\n",
    "\n",
    "# Checks status of request:\n",
    "if response.status_code == 200:\n",
    "    # Saves JSON response as a file:\n",
    "    with open('data.json', 'w') as f:\n",
    "        f.write(response.text)\n",
    "\n",
    "    print(\"Data Retrieval Completed.\")\n",
    "else:\n",
    "    print(f\"Data Retrieval Failed. Status code: {response.status_code}\")\n"
   ]
  },
  {
   "cell_type": "code",
   "execution_count": 3,
   "id": "b66ff1d5",
   "metadata": {},
   "outputs": [],
   "source": [
    "import pandas as pd\n",
    "\n",
    "# Reads JSON file into a pandas DataFrame:\n",
    "json_file = 'data.json'\n",
    "df = pd.read_json(json_file)\n"
   ]
  },
  {
   "cell_type": "code",
   "execution_count": 4,
   "id": "f78c0a85",
   "metadata": {},
   "outputs": [
    {
     "name": "stdout",
     "output_type": "stream",
     "text": [
      "JSON to CSV file conversion completed. CSV file saved as: NYC_propsales.csv\n"
     ]
    }
   ],
   "source": [
    "# Write the DataFrame to a CSV file\n",
    "csv_file = 'NYC_propsales.csv' \n",
    "df.to_csv(csv_file, index=False)\n",
    "\n",
    "print(f\"JSON to CSV file conversion completed. CSV file saved as: {csv_file}\")\n"
   ]
  }
 ],
 "metadata": {
  "kernelspec": {
   "display_name": "Python 3 (ipykernel)",
   "language": "python",
   "name": "python3"
  },
  "language_info": {
   "codemirror_mode": {
    "name": "ipython",
    "version": 3
   },
   "file_extension": ".py",
   "mimetype": "text/x-python",
   "name": "python",
   "nbconvert_exporter": "python",
   "pygments_lexer": "ipython3",
   "version": "3.9.13"
  }
 },
 "nbformat": 4,
 "nbformat_minor": 5
}
